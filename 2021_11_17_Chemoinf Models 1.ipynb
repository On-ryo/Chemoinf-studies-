{
 "cells": [
  {
   "cell_type": "markdown",
   "id": "fdd0d07d",
   "metadata": {},
   "source": [
    "1. Сделать SDF-file из CSV таблиц \n",
    "2. Отфильтровать структуры используя этот инструмент. \n",
    "3. Установить sklearn , CatBoost , XGBoost , LightGBM  \n",
    "4. Файл SCAMS.csv использовать в 10-fold cross-validation (тут эти части будут называться train\n",
    "and validation). Использовать всю выборку test_DLS.csv в качестве тестовой.\n",
    "5. Обучить хотя бы одну модель из каждого пакета выше. Посчитать ROC-AUC lower confidence\n",
    "interval, ROC-AUC, ROC-AUC upper confidence interval, MCC, Accuracy, F1 в ходе 10-fold crossvalidation\n",
    "и выбрать лучшую модель для каждого пакета. Сохранить все значения и построить\n",
    "для violin-plot (группировка по метрикам, затем название каждой модели) по результатам 10-\n",
    "fold cross-validation. Затем построить radar-chart для лучших моделей."
   ]
  },
  {
   "cell_type": "markdown",
   "id": "ed5e2821",
   "metadata": {},
   "source": [
    "### Установить sklearn +, CatBoost +, XGBoost +, LightGBM +"
   ]
  },
  {
   "cell_type": "code",
   "execution_count": null,
   "id": "72bad9b9",
   "metadata": {},
   "outputs": [
    {
     "name": "stdout",
     "output_type": "stream",
     "text": [
      "Requirement already satisfied: scikit-learn in c:\\more_program_files\\anaconda\\envs\\my-rdkit-env\\lib\\site-packages (1.0.1)\n",
      "Requirement already satisfied: threadpoolctl>=2.0.0 in c:\\more_program_files\\anaconda\\envs\\my-rdkit-env\\lib\\site-packages (from scikit-learn) (3.0.0)\n",
      "Requirement already satisfied: joblib>=0.11 in c:\\more_program_files\\anaconda\\envs\\my-rdkit-env\\lib\\site-packages (from scikit-learn) (1.1.0)\n",
      "Requirement already satisfied: scipy>=1.1.0 in c:\\more_program_files\\anaconda\\envs\\my-rdkit-env\\lib\\site-packages (from scikit-learn) (1.7.2)\n",
      "Requirement already satisfied: numpy>=1.14.6 in c:\\more_program_files\\anaconda\\envs\\my-rdkit-env\\lib\\site-packages (from scikit-learn) (1.21.4)\n"
     ]
    }
   ],
   "source": [
    "pip install scikit-learn"
   ]
  },
  {
   "cell_type": "code",
   "execution_count": null,
   "id": "c18cf82d",
   "metadata": {},
   "outputs": [
    {
     "name": "stdout",
     "output_type": "stream",
     "text": [
      "Collecting package metadata (current_repodata.json): ...working... done\n",
      "Solving environment: ...working... done\n",
      "\n",
      "## Package Plan ##\n",
      "\n",
      "  environment location: C:\\More_Program_Files\\Anaconda\\envs\\my-rdkit-env\n",
      "\n",
      "  added / updated specs:\n",
      "    - xgboost\n",
      "\n",
      "\n",
      "The following packages will be SUPERSEDED by a higher-priority channel:\n",
      "\n",
      "  ca-certificates    conda-forge::ca-certificates-2021.10.~ --> conda-forge/label/cf202003::ca-certificates-2019.11.28-hecc5488_0\n",
      "\n",
      "\n",
      "Preparing transaction: ...working... done\n",
      "Verifying transaction: ...working... done\n",
      "Executing transaction: ...working... done\n",
      "\n",
      "Note: you may need to restart the kernel to use updated packages.\n"
     ]
    }
   ],
   "source": [
    "pip install xgboost \n"
   ]
  },
  {
   "cell_type": "code",
   "execution_count": 3,
   "id": "a73ecaad",
   "metadata": {},
   "outputs": [
    {
     "name": "stdout",
     "output_type": "stream",
     "text": [
      "Collecting package metadata (current_repodata.json): ...working... done\n",
      "Solving environment: ...working... done\n",
      "\n",
      "## Package Plan ##\n",
      "\n",
      "  environment location: C:\\More_Program_Files\\Anaconda\\envs\\my-rdkit-env\n",
      "\n",
      "  added / updated specs:\n",
      "    - catboost\n",
      "\n",
      "\n",
      "The following packages will be SUPERSEDED by a higher-priority channel:\n",
      "\n",
      "  ca-certificates    conda-forge/label/cf202003::ca-certif~ --> conda-forge/label/cf201901::ca-certificates-2018.11.29-ha4d7672_0\n",
      "\n",
      "\n",
      "Preparing transaction: ...working... done\n",
      "Verifying transaction: ...working... done\n",
      "Executing transaction: ...working... done\n",
      "\n",
      "Note: you may need to restart the kernel to use updated packages.\n"
     ]
    }
   ],
   "source": [
    "pip install  catboost "
   ]
  },
  {
   "cell_type": "code",
   "execution_count": null,
   "id": "ab14f0b3",
   "metadata": {},
   "outputs": [
    {
     "name": "stdout",
     "output_type": "stream",
     "text": [
      "Collecting package metadata (current_repodata.json): ...working... done\n",
      "Solving environment: ...working... done\n",
      "\n",
      "\n",
      "Note: you may need to restart the kernel to use updated packages.\n",
      "## Package Plan ##\n",
      "\n",
      "  environment location: C:\\More_Program_Files\\Anaconda\\envs\\my-rdkit-env\n",
      "\n",
      "  added / updated specs:\n",
      "    - lightgbm\n",
      "\n",
      "\n",
      "The following packages will be UPDATED:\n",
      "\n",
      "  ca-certificates    conda-forge/label/cf201901::ca-certif~ --> conda-forge::ca-certificates-2021.10.8-h5b45459_0\n",
      "\n",
      "\n",
      "Preparing transaction: ...working... done\n",
      "Verifying transaction: ...working... done\n",
      "Executing transaction: ...working... done\n"
     ]
    }
   ],
   "source": [
    "pip install  lightgbm"
   ]
  },
  {
   "cell_type": "code",
   "execution_count": null,
   "id": "f905f23f",
   "metadata": {},
   "outputs": [],
   "source": [
    "conda install -c richlewis scikit-chem"
   ]
  },
  {
   "cell_type": "code",
   "execution_count": null,
   "id": "21ccec62",
   "metadata": {},
   "outputs": [],
   "source": [
    "# Сделать SDF-file из CSV таблиц"
   ]
  },
  {
   "cell_type": "code",
   "execution_count": 2,
   "id": "207d12ec",
   "metadata": {},
   "outputs": [],
   "source": [
    "import rdkit as rdkit"
   ]
  },
  {
   "cell_type": "code",
   "execution_count": 8,
   "id": "666dc006",
   "metadata": {},
   "outputs": [],
   "source": [
    "import pandas as pd\n",
    "import numpy as np\n",
    "import os\n",
    "import rdkit\n",
    "from rdkit import rdBase\n",
    "from rdkit import Chem\n",
    "from rdkit import RDConfig\n",
    "\n",
    "from rdkit.Chem import rdRGroupDecomposition\n",
    "from rdkit.Chem import PandasTools"
   ]
  },
  {
   "cell_type": "code",
   "execution_count": null,
   "id": "1a77b99a",
   "metadata": {},
   "outputs": [],
   "source": [
    "scams = pd.read_csv('SCAMS.csv')\n",
    "PandasTools.AddMoleculeColumnToFrame(scams, 'Smiles String','Molecule')\n",
    "scams"
   ]
  },
  {
   "cell_type": "code",
   "execution_count": 55,
   "id": "0f871cd7",
   "metadata": {},
   "outputs": [],
   "source": [
    "# сделать sdf файл\n",
    "# все столбци из исходного csv сохраняются как тэги, это надо ?\n",
    "PandasTools.WriteSDF(scams, 'scams_out.sdf', molColName='Molecule', properties=list(scams.columns))"
   ]
  },
  {
   "cell_type": "code",
   "execution_count": 10,
   "id": "07e27cea",
   "metadata": {},
   "outputs": [],
   "source": [
    "# исключить спорные структуры полученные при ChemSar\n",
    "scams.drop(labels=[254, 451, 470, 472, 474, 516, 97, 459], axis=0,  inplace=True, errors='raise')"
   ]
  },
  {
   "cell_type": "code",
   "execution_count": null,
   "id": "5f00fd4c",
   "metadata": {},
   "outputs": [],
   "source": [
    "#  убрать лишнюю нумерацию\n",
    "del scams['Unnamed: 0']\n",
    "# перенумеровать ряды\n",
    "scams_filt = scams.reset_index(drop=True, inplace=False)"
   ]
  },
  {
   "cell_type": "code",
   "execution_count": 4,
   "id": "cbc87919",
   "metadata": {},
   "outputs": [],
   "source": [
    "# прочитать  тестовый файл\n",
    "\n",
    "test_set = pd.read_csv('test_DLS.csv') # прочитать тестовую выборку\n",
    "PandasTools.AddMoleculeColumnToFrame(test_set, 'Smiles String','Molecule', includeFingerprints=False)"
   ]
  },
  {
   "cell_type": "code",
   "execution_count": 10,
   "id": "c9effefd",
   "metadata": {},
   "outputs": [],
   "source": [
    "# agg? начения сделать int\n",
    "\n",
    "scams_filt['agg?'] = scams_filt['agg?'].apply(lambda x: int(x))\n",
    "test_set['agg?'] = test_set['agg?'].apply(lambda x: int(x))"
   ]
  },
  {
   "cell_type": "code",
   "execution_count": 13,
   "id": "ea131fe4",
   "metadata": {},
   "outputs": [],
   "source": [
    "#  схранить как sdf\n",
    "PandasTools.WriteSDF(test_set, 'test_set.sdf', molColName='Molecule', properties=list(test_set.columns))\n",
    "PandasTools.WriteSDF(scams_filt, 'scams_filt.sdf', molColName='Molecule', properties=list(scams_filt.columns))\n",
    "\n",
    "# test_y = test_df['agg?']\n",
    "# молекулы - 'Smiles String', 'Molecule'"
   ]
  }
 ],
 "metadata": {
  "kernelspec": {
   "display_name": "Python 3.10.6 ('my-rdkit-env')",
   "language": "python",
   "name": "python3"
  },
  "language_info": {
   "codemirror_mode": {
    "name": "ipython",
    "version": 3
   },
   "file_extension": ".py",
   "mimetype": "text/x-python",
   "name": "python",
   "nbconvert_exporter": "python",
   "pygments_lexer": "ipython3",
   "version": "3.10.6"
  },
  "vscode": {
   "interpreter": {
    "hash": "911dc54b1af3156f3f4ae15c012e852ed6bdafcde49f7a45c142e55d2b2a2180"
   }
  }
 },
 "nbformat": 4,
 "nbformat_minor": 5
}
