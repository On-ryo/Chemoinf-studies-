{
  "nbformat": 4,
  "nbformat_minor": 0,
  "metadata": {
    "colab": {
      "name": "OOP tutorial.ipynb",
      "provenance": [],
      "authorship_tag": "ABX9TyOk+FzTFPU4w36BFxLE0RPh",
      "include_colab_link": true
    },
    "kernelspec": {
      "name": "python3",
      "display_name": "Python 3"
    },
    "language_info": {
      "name": "python"
    }
  },
  "cells": [
    {
      "cell_type": "markdown",
      "metadata": {
        "id": "view-in-github",
        "colab_type": "text"
      },
      "source": [
        "<a href=\"https://colab.research.google.com/github/Susabae/Chemoinf/blob/main/OOP_tutorial.ipynb\" target=\"_parent\"><img src=\"https://colab.research.google.com/assets/colab-badge.svg\" alt=\"Open In Colab\"/></a>"
      ]
    },
    {
      "cell_type": "code",
      "metadata": {
        "id": "5FdYe-moENjv"
      },
      "source": [
        "class Employee:\n",
        "  pass\n",
        "\n",
        "emp1 = Employee()\n",
        "emp2 = Employee()\n"
      ],
      "execution_count": 1,
      "outputs": []
    },
    {
      "cell_type": "code",
      "metadata": {
        "colab": {
          "base_uri": "https://localhost:8080/"
        },
        "id": "UzyVFtIGd_2e",
        "outputId": "27a01bf5-39af-4da9-91d2-35917670124c"
      },
      "source": [
        "emp1.first = 'Bonnie'\n",
        "emp1.last = 'Clyde'\n",
        "emp1.email = 'testusername@test.com'\n",
        "\n",
        "print(emp1.first)\n"
      ],
      "execution_count": 3,
      "outputs": [
        {
          "output_type": "stream",
          "name": "stdout",
          "text": [
            "Boonie\n"
          ]
        }
      ]
    },
    {
      "cell_type": "code",
      "metadata": {
        "colab": {
          "base_uri": "https://localhost:8080/"
        },
        "id": "HTM8imaPekfA",
        "outputId": "e37da84c-ae03-4e1b-b24e-066c91052d46"
      },
      "source": [
        "class Employee:\n",
        "  def __init__ (self, first, last, pay):\n",
        "    self.first = first\n",
        "    self.last = last\n",
        "    self.pay = pay\n",
        "    self.email = first + '.' + last + '@company.com'\n",
        "\n",
        "\n",
        "emp1 = Employee('Harry', 'Potter', 10000)\n",
        "emp2 = Employee('Draco', 'Malfoy', 300000)\n",
        "\n",
        "print(emp1)\n",
        "print(emp1.pay)\n",
        "print(emp1.email)\n"
      ],
      "execution_count": 14,
      "outputs": [
        {
          "output_type": "stream",
          "name": "stdout",
          "text": [
            "<__main__.Employee object at 0x7fa73f1e0d50>\n",
            "10000\n",
            "Harry.Potter@company.com\n"
          ]
        }
      ]
    },
    {
      "cell_type": "markdown",
      "metadata": {
        "id": "b8HweVf_g2Xi"
      },
      "source": [
        "Функции (методы) внутри **класса**"
      ]
    },
    {
      "cell_type": "code",
      "metadata": {
        "colab": {
          "base_uri": "https://localhost:8080/"
        },
        "id": "b5aj8mxcgyVL",
        "outputId": "e97e06af-5303-4f2a-fdcb-4a873d28b0e7"
      },
      "source": [
        "class Employee:\n",
        "  def __init__ (self, first, last, pay):\n",
        "    self.first = first\n",
        "    self.last = last\n",
        "    self.pay = pay\n",
        "    self.email = first + '.' + last + '@company.com'\n",
        "  \n",
        "  def fullname(self):\n",
        "    return '{} {}'.format(self.first, self.last)\n",
        "\n",
        "emp1 = Employee('Harry', 'Potter', 10000)\n",
        "emp2 = Employee('Draco', 'Malfoy', 300000)\n",
        "\n",
        "print(emp1.fullname())\n",
        "print(emp2.fullname())\n",
        "print(Employee.fullname(emp1))"
      ],
      "execution_count": 21,
      "outputs": [
        {
          "output_type": "stream",
          "name": "stdout",
          "text": [
            "Harry Potter\n",
            "Draco Malfoy\n",
            "Harry Potter\n"
          ]
        }
      ]
    },
    {
      "cell_type": "markdown",
      "metadata": {
        "id": "l8Ymz0zFjqhs"
      },
      "source": [
        "### Видео 2\n",
        "Class Variables / Переменные классов\n",
        "\n",
        "Переменные класса должны быть одинаковые для каждого объекта в классе\n",
        "\n",
        "Надо обращаться к ним как имя_класса.переменная или self.переменная"
      ]
    },
    {
      "cell_type": "code",
      "metadata": {
        "colab": {
          "base_uri": "https://localhost:8080/"
        },
        "id": "Z8O3guuvjuQJ",
        "outputId": "d4f53959-89da-4b8a-8514-b928555b8647"
      },
      "source": [
        "class Employee:\n",
        "  raise_amount = 1.04\n",
        "\n",
        "  def __init__ (self, first, last, pay):\n",
        "    self.first = first\n",
        "    self.last = last\n",
        "    self.pay = pay\n",
        "    self.email = first + '.' + last + '@company.com'\n",
        "  \n",
        "  def fullname(self):\n",
        "    return '{} {}'.format(self.first, self.last)\n",
        "\n",
        "  def apply_raise(self):\n",
        "    self.pay = int(self.pay * self.raise_amount)\n",
        "\n",
        "emp1 = Employee('Harry', 'Potter', 10000)\n",
        "emp2 = Employee('Draco', 'Malfoy', 300000)\n",
        "\n",
        "# меняем перемнную внутри класса:\n",
        "\n",
        "Employee.raise_amount = 1.06\n",
        "\n",
        "print(emp1.pay)\n",
        "print(emp2.pay)\n",
        "emp1.apply_raise()\n",
        "emp2.apply_raise()\n",
        "print(emp1.pay)\n",
        "print(emp2.pay)\n",
        "\n",
        "  \n"
      ],
      "execution_count": 28,
      "outputs": [
        {
          "output_type": "stream",
          "name": "stdout",
          "text": [
            "10000\n",
            "300000\n",
            "10600\n",
            "318000\n"
          ]
        }
      ]
    },
    {
      "cell_type": "markdown",
      "metadata": {
        "id": "UaXURNvagrcp"
      },
      "source": [
        ""
      ]
    },
    {
      "cell_type": "markdown",
      "metadata": {
        "id": "C1EP_BwGnOG9"
      },
      "source": [
        "Если при изменении переменной поставить не имя_класса.переменная,\n",
        "а имя_объекта.переменная, то изменится переменная только в данном объекте:"
      ]
    },
    {
      "cell_type": "code",
      "metadata": {
        "colab": {
          "base_uri": "https://localhost:8080/"
        },
        "id": "f1e3-wzTnGuq",
        "outputId": "f9aeeae0-72dc-43b5-9605-396df9afe1c5"
      },
      "source": [
        "class Employee:\n",
        "  raise_amount = 1.04\n",
        "\n",
        "  def __init__ (self, first, last, pay):\n",
        "    self.first = first\n",
        "    self.last = last\n",
        "    self.pay = pay\n",
        "    self.email = first + '.' + last + '@company.com'\n",
        "  \n",
        "  def fullname(self):\n",
        "    return '{} {}'.format(self.first, self.last)\n",
        "\n",
        "  def apply_raise(self):\n",
        "    self.pay = int(self.pay * self.raise_amount)\n",
        "\n",
        "emp1 = Employee('Harry', 'Potter', 10000)\n",
        "emp2 = Employee('Draco', 'Malfoy', 300000)\n",
        "\n",
        "# меняем перемнную внутри объекта:\n",
        "\n",
        "emp1.raise_amount = 1.06\n",
        "print(emp1.raise_amount)\n",
        "print(emp2.raise_amount)\n",
        "\n",
        "print(emp1.pay)\n",
        "print(emp2.pay)\n",
        "emp1.apply_raise()\n",
        "emp2.apply_raise()\n",
        "\n",
        "print(emp1.pay)\n",
        "print(emp2.pay)\n",
        "\n",
        "  \n"
      ],
      "execution_count": 31,
      "outputs": [
        {
          "output_type": "stream",
          "name": "stdout",
          "text": [
            "1.06\n",
            "1.04\n",
            "10000\n",
            "300000\n",
            "10600\n",
            "312000\n"
          ]
        }
      ]
    },
    {
      "cell_type": "markdown",
      "metadata": {
        "id": "cVxOvSWEU5P6"
      },
      "source": [
        "Создаём переменную - счётчик объектов"
      ]
    },
    {
      "cell_type": "code",
      "metadata": {
        "colab": {
          "base_uri": "https://localhost:8080/"
        },
        "id": "jseL3GJpn_26",
        "outputId": "08949acb-c948-4717-8e67-61989aba439a"
      },
      "source": [
        "class Employee:\n",
        "\n",
        "  num_of_emps =0\n",
        "  raise_amount = 1.04\n",
        "\n",
        "  def __init__ (self, first, last, pay):\n",
        "    self.first = first\n",
        "    self.last = last\n",
        "    self.pay = pay\n",
        "    self.email = first + '.' + last + '@company.com'\n",
        "\n",
        "    Employee.num_of_emps +=1\n",
        "  \n",
        "  def fullname(self):\n",
        "    return '{} {}'.format(self.first, self.last)\n",
        "\n",
        "  def apply_raise(self):\n",
        "    self.pay = int(self.pay * self.raise_amount)\n",
        "\n",
        "emp1 = Employee('Harry', 'Potter', 10000)\n",
        "emp2 = Employee('Draco', 'Malfoy', 300000)\n",
        "\n",
        "print(Employee.num_of_emps)"
      ],
      "execution_count": 2,
      "outputs": [
        {
          "output_type": "stream",
          "name": "stdout",
          "text": [
            "2\n"
          ]
        }
      ]
    },
    {
      "cell_type": "markdown",
      "metadata": {
        "id": "iLBvC2utVrM_"
      },
      "source": [
        "###Видео 3\n",
        "Сlassmethods and staticmethods\n",
        "\n",
        "Метод, который будет принимать название класса, не объекта в классе\n",
        "\n",
        "обощающее обозначение класса - **cls**\n"
      ]
    },
    {
      "cell_type": "code",
      "metadata": {
        "colab": {
          "base_uri": "https://localhost:8080/"
        },
        "id": "Rs0DOOBPWLAe",
        "outputId": "c8db723e-026a-44e8-fc78-6f3a46f9facf"
      },
      "source": [
        "class Employee:\n",
        "\n",
        "  num_of_emps =0\n",
        "  raise_amount = 1.04\n",
        "\n",
        "  def __init__ (self, first, last, pay):\n",
        "    self.first = first\n",
        "    self.last = last\n",
        "    self.pay = pay\n",
        "    self.email = first + '.' + last + '@company.com'\n",
        "\n",
        "    Employee.num_of_emps +=1\n",
        "  \n",
        "  def fullname(self):\n",
        "    return '{} {}'.format(self.first, self.last)\n",
        "\n",
        "  def apply_raise(self):\n",
        "    self.pay = int(self.pay * self.raise_amount)\n",
        "\n",
        "  @classmethod\n",
        "  def set_raise_amt(cls, amount):\n",
        "    cls.raise_amount = amount\n",
        "\n",
        "emp1 = Employee('Harry', 'Potter', 10000)\n",
        "emp2 = Employee('Draco', 'Malfoy', 300000)\n",
        "\n",
        "print(Employee.raise_amount)\n",
        "\n",
        "Employee.set_raise_amt(1.1)\n",
        "print(Employee.raise_amount)"
      ],
      "execution_count": 6,
      "outputs": [
        {
          "output_type": "stream",
          "name": "stdout",
          "text": [
            "1.04\n",
            "1.1\n"
          ]
        }
      ]
    },
    {
      "cell_type": "code",
      "metadata": {
        "colab": {
          "base_uri": "https://localhost:8080/"
        },
        "id": "JQUYdgkSVSkp",
        "outputId": "ff7cece4-291c-4313-a941-575c12889c76"
      },
      "source": [
        "emp1.apply_raise()\n",
        "emp2.apply_raise()\n",
        "\n",
        "print(emp1.pay)\n",
        "print(emp2.pay)"
      ],
      "execution_count": 5,
      "outputs": [
        {
          "output_type": "stream",
          "name": "stdout",
          "text": [
            "11000\n",
            "330000\n"
          ]
        }
      ]
    },
    {
      "cell_type": "markdown",
      "metadata": {
        "id": "_ho4nnOrd-IN"
      },
      "source": [
        "Как передать строку и нашинковать объектов из неё\n"
      ]
    },
    {
      "cell_type": "code",
      "metadata": {
        "colab": {
          "base_uri": "https://localhost:8080/"
        },
        "id": "jNhEOCtEeD4o",
        "outputId": "c3979bb2-0976-4c3e-a22e-4c65c33007c6"
      },
      "source": [
        "emp_str_1 = 'Tuomas-Holopainen-50000'\n",
        "emp_str_2 = 'Marko-Hietala-60000'\n",
        "emp_str_3 = 'Jorn-Lande-25000'\n",
        "\n",
        "# методом сплит ращрещаем, указывая разделитель\n",
        "first3, last3, pay3 = emp_str_3.split('-')\n",
        "\n",
        "emp3 = Employee(first3, last3, pay3)\n",
        "\n",
        "print(emp3.last)"
      ],
      "execution_count": 7,
      "outputs": [
        {
          "output_type": "stream",
          "name": "stdout",
          "text": [
            "Lande\n"
          ]
        }
      ]
    },
    {
      "cell_type": "markdown",
      "metadata": {
        "id": "X08GaHjXfRI6"
      },
      "source": [
        "Делаем из жтого метод класса"
      ]
    },
    {
      "cell_type": "code",
      "metadata": {
        "colab": {
          "base_uri": "https://localhost:8080/"
        },
        "id": "UKH_hv0KfLE8",
        "outputId": "dc53ee0a-f87f-4005-b333-fa1cce0324d5"
      },
      "source": [
        "class Employee:\n",
        "\n",
        "  num_of_emps =0\n",
        "  raise_amount = 1.04\n",
        "\n",
        "  def __init__ (self, first, last, pay):\n",
        "    self.first = first\n",
        "    self.last = last\n",
        "    self.pay = pay\n",
        "    self.email = first + '.' + last + '@company.com'\n",
        "\n",
        "    Employee.num_of_emps +=1\n",
        "  \n",
        "  def fullname(self):\n",
        "    return '{} {}'.format(self.first, self.last)\n",
        "\n",
        "  def apply_raise(self):\n",
        "    self.pay = int(self.pay * self.raise_amount)\n",
        "\n",
        "  @classmethod\n",
        "  def set_raise_amt(cls, amount):\n",
        "    cls.raise_amount = amount\n",
        "\n",
        "  @classmethod\n",
        "  def from_string(cls, emp_str):\n",
        "    first, last, pay = emp_str.split('-')\n",
        "    return cls(first, last, pay)\n",
        "\n",
        "emp_str_1 = 'Tuomas-Holopainen-50000'\n",
        "emp_str_2 = 'Marko-Hietala-60000'\n",
        "emp_str_3 = 'Jorn-Lande-25000'\n",
        "\n",
        "emp2 = Employee.from_string(emp_str_2)\n",
        "print(emp2.first, emp2.last)"
      ],
      "execution_count": 9,
      "outputs": [
        {
          "output_type": "stream",
          "name": "stdout",
          "text": [
            "Marko Hietala\n"
          ]
        }
      ]
    },
    {
      "cell_type": "markdown",
      "metadata": {
        "id": "WhuRXAbUmaZR"
      },
      "source": [
        "Static Metods (статические методы?)\n",
        "\n",
        "Не передают ни класс ни объект\n",
        "Но их можно включать в классы"
      ]
    },
    {
      "cell_type": "code",
      "metadata": {
        "colab": {
          "base_uri": "https://localhost:8080/"
        },
        "id": "mPyxlX4SmeTM",
        "outputId": "a267a491-3a40-44c6-cd39-98e45c67c064"
      },
      "source": [
        "class Employee:\n",
        "\n",
        "  num_of_emps =0\n",
        "  raise_amount = 1.04\n",
        "\n",
        "  def __init__ (self, first, last, pay):\n",
        "    self.first = first\n",
        "    self.last = last\n",
        "    self.pay = pay\n",
        "    self.email = first + '.' + last + '@aurorat.com'\n",
        "\n",
        "    Employee.num_of_emps +=1\n",
        "  \n",
        "  def fullname(self):\n",
        "    return '{} {}'.format(self.first, self.last)\n",
        "\n",
        "  def apply_raise(self):\n",
        "    self.pay = int(self.pay * self.raise_amount)\n",
        "\n",
        "# методы класса\n",
        "  @classmethod\n",
        "  def set_raise_amt(cls, amount):\n",
        "    cls.raise_amount = amount\n",
        "\n",
        "# метод класса - способ задать класc разбив строку. \n",
        "# функция должна возвращать класс\n",
        "  @classmethod\n",
        "  def from_string(cls, emp_str):\n",
        "    first, last, pay = emp_str.split('-')\n",
        "    return cls(first, last, pay)\n",
        "\n",
        "# статический метод\n",
        "\n",
        "  def is_workday(day):\n",
        "    # пользуемся втсроеннными методами питон.\n",
        "    # дни недели пронумерованы от 0 до 6\n",
        "    if day.weekday() == 5 or  day.weekday() == 6:\n",
        "      return False \n",
        "    return True\n",
        "\n",
        "# обращение к такой функции:\n",
        "import datetime\n",
        "my_date = datetime.date(2021, 11, 13)\n",
        "\n",
        "print(Employee.is_workday(my_date))\n",
        "\n",
        "\n",
        "emp_str_1 = 'Tuomas-Holopainen-50000'\n",
        "emp_str_2 = 'Marko-Hietala-60000'\n",
        "emp_str_3 = 'Jorn-Lande-25000'"
      ],
      "execution_count": 14,
      "outputs": [
        {
          "output_type": "stream",
          "name": "stdout",
          "text": [
            "False\n"
          ]
        }
      ]
    },
    {
      "cell_type": "markdown",
      "metadata": {
        "id": "E8bvZnJuwsA9"
      },
      "source": [
        "### Видео 4\n",
        "Inheritance\n",
        "Наследование. Используем уже существующий класс чтобы создавать подклассы"
      ]
    },
    {
      "cell_type": "code",
      "metadata": {
        "id": "NL1nOJI_wruN"
      },
      "source": [
        "class Developer(Employee):\n",
        "  pass\n",
        "\n",
        "# так новый класс будет копией переданного класс\n",
        "# при этом при вызове метод питон сначала будет искать в нижнем классе\n",
        "# и если не найдёт, будет переходить к поиску в унаследованных\n"
      ],
      "execution_count": 15,
      "outputs": []
    },
    {
      "cell_type": "code",
      "metadata": {
        "colab": {
          "base_uri": "https://localhost:8080/"
        },
        "id": "rnc6sVbSxfcE",
        "outputId": "153ff0cc-3517-4035-c798-b253262733d0"
      },
      "source": [
        "class Developer(Employee):\n",
        "  raise_amt = 0.1\n",
        "  def __init__ (self, first, last, pay, prog_lang):\n",
        "    # чтобы перенести init из наследуемого класса\n",
        "    #передать элементы функции \n",
        "    super().__init__(first, last, pay)\n",
        "    # Employee.__init__(self, first, last, pay) - \n",
        "    #другой вариант? но чем-то хуже?\n",
        "    self.prog_lang = prog_lang\n",
        "\n",
        "\n",
        "dev1 = Developer('Harry', 'Potter', 10000, 'Java')\n",
        "dev2 = Developer('Draco', 'Malfoy', 300000, 'C++')\n",
        "\n",
        "print(dev2.prog_lang)\n"
      ],
      "execution_count": 16,
      "outputs": [
        {
          "output_type": "stream",
          "name": "stdout",
          "text": [
            "C++\n"
          ]
        }
      ]
    },
    {
      "cell_type": "code",
      "metadata": {
        "colab": {
          "base_uri": "https://localhost:8080/"
        },
        "id": "KiG3dKo0pt3W",
        "outputId": "aee07bb9-4ffb-419a-dd9a-c255ce41ec10"
      },
      "source": [
        "class Manager(Employee):\n",
        "    def __init__ (self, first, last, pay, employees=None):\n",
        "\n",
        "      super().__init__(first, last, pay)\n",
        "    # Employee.__init__(self, first, last, pay) - другой вариант\n",
        "      if employees is None:\n",
        "        self.employees = [] # не передавать списки/словари\n",
        "        # как аргументs вместо None\n",
        "      else:\n",
        "        self.employees = employees\n",
        "\n",
        "    # чтобы можно было добавлять в список закреплённых за менеджером \n",
        "    def add_emp(self,emp):\n",
        "      if emp not in self.employees:\n",
        "        self.employees.append(emp)\n",
        "\n",
        "\n",
        "    def remove_emp(self, emp):\n",
        "      if emp  in self.employees:\n",
        "        self.employees.remove(emp)\n",
        "\n",
        "    def print_emps(self):\n",
        "      for emp in self.employees:\n",
        "        print('-->', emp.fullname())\n",
        "\n",
        "mng1 = Manager('Hermione', 'Granger', 900000, [dev2] )\n",
        "\n",
        "print(mng1.email)\n",
        "mng1.print_emps()\n",
        "\n",
        "mng1.add_emp(dev1)\n",
        "mng1.print_emps()\n"
      ],
      "execution_count": 24,
      "outputs": [
        {
          "output_type": "stream",
          "name": "stdout",
          "text": [
            "Hermione.Granger@aurorat.com\n",
            "--> Draco Malfoy\n",
            "--> Draco Malfoy\n",
            "--> Harry Potter\n"
          ]
        }
      ]
    },
    {
      "cell_type": "code",
      "metadata": {
        "colab": {
          "base_uri": "https://localhost:8080/"
        },
        "id": "WF9RBDmtt9ii",
        "outputId": "f19fb79d-3ef2-44f8-f187-89afc432aae2"
      },
      "source": [
        "isinstance(mng1, Manager) # проверяет, имеет  ли объект этот класс "
      ],
      "execution_count": 25,
      "outputs": [
        {
          "output_type": "execute_result",
          "data": {
            "text/plain": [
              "True"
            ]
          },
          "metadata": {},
          "execution_count": 25
        }
      ]
    },
    {
      "cell_type": "markdown",
      "metadata": {
        "id": "zJYsvNdzFMSI"
      },
      "source": [
        "### Видео 5\n",
        "Special Methods\n",
        "помогают поменять поведение по умолчанию (?) \n",
        "\n",
        "'dunder  init' => __init__ (уже использовали)\n",
        "и прочие служебные методы"
      ]
    },
    {
      "cell_type": "code",
      "metadata": {
        "colab": {
          "base_uri": "https://localhost:8080/"
        },
        "id": "mATRNgzt6V-l",
        "outputId": "7d370d4f-209f-42ef-cce2-700d5bc11473"
      },
      "source": [
        "class Employee:\n",
        "\n",
        "  num_of_emps =0\n",
        "  raise_amount = 1.04\n",
        "\n",
        "  def __init__ (self, first, last, pay):\n",
        "    self.first = first\n",
        "    self.last = last\n",
        "    self.pay = pay\n",
        "    self.email = first + '.' + last + '@company.com'\n",
        "\n",
        "    Employee.num_of_emps +=1\n",
        "  \n",
        "  def fullname(self):\n",
        "    return '{} {}'.format(self.first, self.last)\n",
        "\n",
        "  def apply_raise(self):\n",
        "    self.pay = int(self.pay * self.raise_amount)\n",
        "\n",
        "  @classmethod\n",
        "  def set_raise_amt(cls, amount):\n",
        "    cls.raise_amount = amount\n",
        "\n",
        "  @classmethod\n",
        "  def from_string(cls, emp_str):\n",
        "    first, last, pay = emp_str.split('-')\n",
        "    return cls(first, last, pay)\n",
        "\n",
        "# метод для однозначной (?) характеризации объекта, для разработчиков\n",
        "  def __repr__(self):\n",
        "    # что-то чтобы воссоздать объект???? \n",
        "    return \"Employee('{}', '{}', '{}')\".format(self.first, self.last, self.pay)\n",
        "\n",
        "\n",
        "# метод более однозначного описания объектов, для юзеров\n",
        "  def __str__(self):\n",
        "    return '{} - {}'.format(self.fullname(), self.email)\n",
        "\n",
        "  # добавляем служебный метод для сложения запрплат (см. ниже)\n",
        "\n",
        "  def __add__(self, other):\n",
        "    return self.pay + other.pay\n",
        "\n",
        "  # чтобы напечатать длину имени\n",
        "  def __len__(self):\n",
        "    return(len(self.fullname))\n",
        "\n",
        "\n",
        "\n",
        "emp1 = Employee('Harry', 'Potter', 10000)\n",
        "emp2 = Employee('Draco', 'Malfoy', 300000)\n",
        "\n",
        "# print(emp1) # теперь возвращает описание объекта/\n",
        "# без указания вызываемого метода при наличии двух repr и str) будет ошибка\n",
        "print(emp1.__repr__())\n",
        "print(emp1.__str__())\n",
        "\n"
      ],
      "execution_count": 17,
      "outputs": [
        {
          "output_type": "stream",
          "name": "stdout",
          "text": [
            "Employee('Harry', 'Potter', '10000')\n",
            "Harry Potter - Harry.Potter@company.com\n"
          ]
        }
      ]
    },
    {
      "cell_type": "code",
      "metadata": {
        "colab": {
          "base_uri": "https://localhost:8080/"
        },
        "id": "1xrldWfeTKXG",
        "outputId": "51c2555b-13dd-4245-bb1a-e0f2ee873790"
      },
      "source": [
        "print(1 + 2)\n",
        "# на самом деле работает\n",
        "print(int.__add__(1, 2) )\n",
        "\n",
        "print(emp1 + emp2) #без введения метода в класс не сработает (см. выше def __add__)\n",
        "\n"
      ],
      "execution_count": 18,
      "outputs": [
        {
          "output_type": "stream",
          "name": "stdout",
          "text": [
            "3\n",
            "3\n",
            "310000\n"
          ]
        }
      ]
    },
    {
      "cell_type": "code",
      "metadata": {
        "colab": {
          "base_uri": "https://localhost:8080/"
        },
        "id": "phDL4hMUZgqL",
        "outputId": "17bc2e7b-b57b-4f03-e489-1802a4d4c6cb"
      },
      "source": [
        "print(len('test'))\n",
        "print('test'.__len__())\n",
        "\n",
        "# чтобы работало на методе, тоже надо тдобавить метод в класс (dsit)\n",
        "\n",
        "print(len(emp1.fullname()))"
      ],
      "execution_count": 20,
      "outputs": [
        {
          "output_type": "stream",
          "name": "stdout",
          "text": [
            "4\n",
            "4\n",
            "12\n"
          ]
        }
      ]
    },
    {
      "cell_type": "markdown",
      "metadata": {
        "id": "MGpHXp0saxmc"
      },
      "source": [
        "### Видео 6\n",
        "\n",
        "Property decorator\n",
        "позволяет определять метод, иполучать к нему доступ как к переменно (attribute&)\n",
        "\n",
        "\n"
      ]
    },
    {
      "cell_type": "code",
      "metadata": {
        "colab": {
          "base_uri": "https://localhost:8080/"
        },
        "id": "3uRs55vQguLy",
        "outputId": "ce9ed08b-a448-4cad-a2da-687025f65a79"
      },
      "source": [
        "class Employee:\n",
        "  raise_amount = 1.04\n",
        "\n",
        "  def __init__ (self, first, last, pay):\n",
        "    self.first = first\n",
        "    self.last = last\n",
        "    self.pay = pay\n",
        "    self.email = first + '.' + last + '@company.com'\n",
        "  \n",
        "  \n",
        "\n",
        "  def fullname(self):\n",
        "    return '{} {}'.format(self.first, self.last)\n",
        "\n",
        "emp1 = Employee('Harry', 'Potter', 10000)\n",
        "emp2 = Employee('Draco', 'Malfoy', 300000)\n",
        "\n",
        "\n",
        "# если сейчас поменять у первого объекта имя, то email будет выводиться со старым именем\n",
        "# а fullname - с новым, потому что fullname берёт переменные self.first\n",
        "# а методы email передаются исходные параметры\n",
        "\n",
        "emp1.first = 'Albus'\n",
        "\n",
        "print(emp1.first)\n",
        "print(emp1.email)\n",
        "print(emp1.fullname())"
      ],
      "execution_count": 22,
      "outputs": [
        {
          "output_type": "stream",
          "name": "stdout",
          "text": [
            "Albus\n",
            "Harry.Potter@company.com\n",
            "Albus Potter\n"
          ]
        }
      ]
    },
    {
      "cell_type": "markdown",
      "metadata": {
        "id": "oUni7DaNho7D"
      },
      "source": [
        "Исправляем, делая email классом:"
      ]
    },
    {
      "cell_type": "code",
      "metadata": {
        "colab": {
          "base_uri": "https://localhost:8080/"
        },
        "id": "UBksfoGphsA-",
        "outputId": "7c7f91ed-4099-4e13-bde4-25b8d27e2082"
      },
      "source": [
        "class Employee:\n",
        "  raise_amount = 1.04\n",
        "\n",
        "  def __init__ (self, first, last, pay):\n",
        "    self.first = first\n",
        "    self.last = last\n",
        "    self.pay = pay\n",
        "    # self.email = first + '.' + last + '@company.com'  - тут убираем\n",
        "  \n",
        "  def email(self):\n",
        "    return '{}.{}@email.com'.format(self.first, self.last)\n",
        "    \n",
        "  def fullname(self):\n",
        "    return '{} {}'.format(self.first, self.last)\n",
        "\n",
        "emp1 = Employee('Harry', 'Potter', 10000)\n",
        "emp2 = Employee('Draco', 'Malfoy', 300000)\n",
        "\n",
        "emp1.first = 'Albus'\n",
        "\n",
        "print(emp1.first)\n",
        "print(emp1.email()) # в таком случае надо делать обращение как к функции\n",
        "print(emp1.fullname())"
      ],
      "execution_count": 26,
      "outputs": [
        {
          "output_type": "stream",
          "name": "stdout",
          "text": [
            "Albus\n",
            "Albus.Potter@email.com\n",
            "Albus Potter\n"
          ]
        }
      ]
    },
    {
      "cell_type": "code",
      "metadata": {
        "colab": {
          "base_uri": "https://localhost:8080/"
        },
        "id": "5HneiOj6pu-H",
        "outputId": "eb13b436-e483-4e95-d02b-7d6b399ac19e"
      },
      "source": [
        "# чтобы сохранить возмоность обращаться к email как к переменной (attribute)]\n",
        "class Employee:\n",
        "  raise_amount = 1.04\n",
        "\n",
        "  def __init__ (self, first, last, pay):\n",
        "    self.first = first\n",
        "    self.last = last\n",
        "    self.pay = pay\n",
        "    # self.email = first + '.' + last + '@company.com'  - тут убираем\n",
        "  \n",
        "  @property # добавляем этот decorator\n",
        "  def email(self):\n",
        "    return '{}.{}@email.com'.format(self.first, self.last)\n",
        "\n",
        "  @property  \n",
        "  def fullname(self):\n",
        "    return '{} {}'.format(self.first, self.last)\n",
        "\n",
        "  @fullname.setter # делаем ещё один decorator\n",
        "  def fullname(self, name):\n",
        "    first, last  = name.split(' ')\n",
        "    self.first = first\n",
        "    self.last = last\n",
        "\n",
        "  @fullname.deleter # делаем ещё один decorator\n",
        "  def fullname(self):\n",
        "    print('Delete Name')\n",
        "    self.first = None\n",
        "    self.last = None\n",
        "  \n",
        "\n",
        "\n",
        "emp1 = Employee('Harry', 'Potter', 10000)\n",
        "emp2 = Employee('Draco', 'Malfoy', 300000)\n",
        "\n",
        "emp1.first = 'Albus'\n",
        "\n",
        "# теперь можно сделать так\n",
        "emp2.fullname = 'Scorpius Malfoy'\n",
        "\n",
        "\n",
        "print(emp1.first)\n",
        "print(emp1.email) # теперь можно функцию вызывать как переменную\n",
        "print(emp1.fullname) # и тут тоже\n",
        "\n",
        "print(emp2.fullname) \n",
        "print(emp2.email) # и тут тоже\n",
        "\n",
        "del emp1.fullname # так поняла действие задаётся декоратором?"
      ],
      "execution_count": 31,
      "outputs": [
        {
          "output_type": "stream",
          "name": "stdout",
          "text": [
            "Albus\n",
            "Albus.Potter@email.com\n",
            "Albus Potter\n",
            "Scorpius Malfoy\n",
            "Scorpius.Malfoy@email.com\n",
            "Delete Name\n"
          ]
        }
      ]
    }
  ]
}