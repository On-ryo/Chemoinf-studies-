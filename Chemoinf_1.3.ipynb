{
 "cells": [
  {
   "cell_type": "code",
   "execution_count": 20,
   "id": "7ea35843",
   "metadata": {},
   "outputs": [],
   "source": [
    "import pandas as pd\n",
    "import numpy as np\n",
    "from rdkit import rdBase\n",
    "from rdkit import Chem\n",
    "\n",
    "\n",
    "from rdkit.Chem import AllChem\n",
    "from rdkit import RDConfig\n",
    "import os\n",
    "from rdkit.Chem.Draw import IPythonConsole\n",
    "from rdkit.Chem import Draw"
   ]
  },
  {
   "cell_type": "code",
   "execution_count": 45,
   "id": "4073dbaa",
   "metadata": {},
   "outputs": [],
   "source": [
    "df = pd.read_csv('chem_data.csv') #чтение csv файла"
   ]
  },
  {
   "cell_type": "code",
   "execution_count": 46,
   "id": "90fb3775",
   "metadata": {},
   "outputs": [],
   "source": [
    "miles = df['CanonicalSMILES'].tolist() #сделала списки чтобы потом протиерироваться под dev столбцам\n",
    "CIDs = df['CID'].tolist()\n",
    "\n",
    "mls = []\n",
    "\n",
    "for index in range(len(smiles)):\n",
    "    mlcl = Chem.MolFromSmiles(smiles[index]) # итерация по списку со SMILES\n",
    "    mlcl.SetProp(\"_Name\", str(CIDs[index])) #присовение блокe имени - CID\n",
    "    mlclblock = Chem.MolToMolBlock(mlcl) # добавление молекулы в блок(?)\n",
    "    mol = Chem.MolFromMolBlock(mlclblock)\n",
    "    mls.append(mol)\n",
    "\n"
   ]
  },
  {
   "cell_type": "code",
   "execution_count": 47,
   "id": "f3a5769f",
   "metadata": {},
   "outputs": [
    {
     "data": {
      "image/png": "[encoded data removed]",
      "text/plain": [
       "<rdkit.Chem.rdchem.Mol at 0x1aaccd44760>"
      ]
     },
     "execution_count": 47,
     "metadata": {},
     "output_type": "execute_result"
    }
   ],
   "source": [
    "mls[7]\n"
   ]
  },
  {
   "cell_type": "code",
   "execution_count": null,
   "id": "0c611a49",
   "metadata": {},
   "outputs": [],
   "source": []
  }
 ],
 "metadata": {
  "kernelspec": {
   "display_name": "Python 3 (ipykernel)",
   "language": "python",
   "name": "python3"
  },
  "language_info": {
   "codemirror_mode": {
    "name": "ipython",
    "version": 3
   },
   "file_extension": ".py",
   "mimetype": "text/x-python",
   "name": "python",
   "nbconvert_exporter": "python",
   "pygments_lexer": "ipython3",
   "version": "3.9.7"
  }
 },
 "nbformat": 4,
 "nbformat_minor": 5
}
