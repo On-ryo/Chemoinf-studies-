{
  "nbformat": 4,
  "nbformat_minor": 0,
  "metadata": {
    "colab": {
      "name": "Cheminf1_1.ipynb",
      "provenance": [],
      "mount_file_id": "161Vc-bMz1EErkEnRUnP0PC4fKZZtDxaO",
      "authorship_tag": "ABX9TyMta+MoUzh4DV5rTY1g/iR4",
      "include_colab_link": true
    },
    "kernelspec": {
      "name": "python3",
      "display_name": "Python 3"
    },
    "language_info": {
      "name": "python"
    }
  },
  "cells": [
    {
      "cell_type": "markdown",
      "metadata": {
        "id": "view-in-github",
        "colab_type": "text"
      },
      "source": [
        "<a href=\"https://colab.research.google.com/github/Susabae/Chemoinf/blob/main/Cheminf1_1.ipynb\" target=\"_parent\"><img src=\"https://colab.research.google.com/assets/colab-badge.svg\" alt=\"Open In Colab\"/></a>"
      ]
    },
    {
      "cell_type": "code",
      "metadata": {
        "id": "2en07nfGfzHO"
      },
      "source": [
        "import requests\n",
        "import csv\n",
        "with open('/content/drive/MyDrive/Colab Notebooks/chem_id_pubmed.txt') as chem_id: # открываю файл с CID\n",
        "     CIDS = chem_id.readlines() # это список CIDSиз исходного файла\n",
        "for i in range(len(CIDS)):\n",
        "    CIDS[i] = CIDS[i].strip('\\n')\n",
        "CIDstring = \",\".join(CIDS) #cnjrf - список CID\n",
        "compound_url ='https://pubchem.ncbi.nlm.nih.gov/rest/pug/compound/cid/'+CIDstring+'/property/CanonicalSMILES,Fingerprint2D,MolecularFormula/CSV'\n",
        "response = requests.get(compound_url)\n",
        "with open(\"my_chem_data.csv\", mode=\"w\", encoding='utf-8') as my_chem_data: #создаю файл csv \n",
        "    my_chem_data.write(response.text) # записываю в файл"
      ],
      "execution_count": null,
      "outputs": []
    },
    {
      "cell_type": "markdown",
      "metadata": {
        "id": "V8rFa0WCKhCP"
      },
      "source": [
        ""
      ]
    }
  ]
}