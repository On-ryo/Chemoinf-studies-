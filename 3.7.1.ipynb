{
 "cells": [
  {
   "cell_type": "code",
   "execution_count": null,
   "metadata": {},
   "outputs": [],
   "source": [
    "\n",
    "n  = int(input())  #  число игр\n",
    "\n",
    "teams = {}# глобальный список  \n",
    "\n",
    "for i in range(n):  # для каждой строки\n",
    "    match = [i for i in input().split(';')] # ввод текущего матча\n",
    "    \n",
    "    for i in match: \n",
    "        if i.isalpha():\n",
    "            team = i            \n",
    "            if  team not in teams: # вставить команду в список команд\n",
    "                \n",
    "                \n",
    "    # тт проделать то же самое сравнение только с добавлением элемента с ловарьэ "
   ]
  },
  {
   "cell_type": "code",
   "execution_count": 3,
   "metadata": {
    "scrolled": true
   },
   "outputs": [
    {
     "name": "stdout",
     "output_type": "stream",
     "text": [
      "3\n",
      "Зенит;3;Спартак;1\n",
      "Спартак;1;ЦСКА;1\n",
      "ЦСКА;0;Зенит;2\n",
      "Зенит:Зенит:2 2 0 0 6\n",
      "Спартак:Спартак:2 0 1 1 1\n",
      "ЦСКА:ЦСКА:2 0 1 1 1\n"
     ]
    }
   ],
   "source": [
    "#1\n",
    "\n",
    "n  = int(input())  #  число игр\n",
    "\n",
    "games = [] # первый список, в который надо занести победы и поражения\n",
    "teams = [] # глобальный список   \n",
    "\n",
    "for i in range(n):  # для каждой строки\n",
    "    match = [i for i in input().split(';')] # ввод текущего матча\n",
    "\n",
    "    for i in match: \n",
    "        if i.isalpha():\n",
    "            team = i            \n",
    "            if  team not in teams: # вставить команду в список команд\n",
    "                teams.append(team)  # СДЕЛАТЬ добавление жлемента в список \n",
    "    \n",
    "    # теперь надо сравнить счёт\n",
    "    teama = 0\n",
    "    teamb = 0\n",
    "    scorea = 0\n",
    "    scoreb = 0\n",
    "    for  i in match: \n",
    "        if i.isalpha():\n",
    "            teama = i\n",
    "            if teamb == 0:\n",
    "                teamb = teama\n",
    "        else:   \n",
    "            scorea = i\n",
    "            if scoreb == 0:\n",
    "                scoreb = scorea\n",
    "              # теперь у нас есть команды a и b и  счёт  a и b\n",
    "            \n",
    "    # сравниваем счёт и записываем для каждой комарнды результат в список:\n",
    "     \n",
    "    if scorea > scoreb:\n",
    "            a = str(teama) + ' win'\n",
    "            b = str(teamb) + ' lose'\n",
    "            games.append(a)\n",
    "            games.append(b)\n",
    "    elif scorea < scoreb:\n",
    "            a = str(teama) + ' lose'\n",
    "            b = str(teamb) + ' win'\n",
    "            games.append(a)\n",
    "            games.append(b)    \n",
    "    elif scorea == scoreb:\n",
    "            a = str(teama) + ' draw'\n",
    "            b = str(teamb) + ' draw'\n",
    "            games.append(a)\n",
    "            games.append(b)\n",
    "\n",
    "\n",
    "# Теперь надо последовательно для каждой команды :\n",
    "    # напечатать команду \n",
    "    # посчитать победы (команда + win)\n",
    "        # напечатать\n",
    "for teamy in teams:  # последовательно для каждой команды :\n",
    "\n",
    "    w = str(teamy) + ' win'\n",
    "    l = str(teamy) + ' lose'\n",
    "    d = str(teamy) + ' draw'\n",
    "    wins = games.count(w) # число побед\n",
    "    losses = games.count(l) # число поражений\n",
    "    draws = games.count(d) # число ничьих\n",
    "    allgames = draws + wins + losses\n",
    "    points = wins*3+ draws\n",
    "    print(teamy + ':' + str(allgames), wins, draws, losses, points) #всё выводим\n",
    "\n",
    "    \n",
    "    \n",
    "\n",
    "    \n",
    "    # тут надо будет разобраться с сформированным локальным словарем. \n",
    "\n",
    "    "
   ]
  },
  {
   "cell_type": "code",
   "execution_count": 8,
   "metadata": {},
   "outputs": [
    {
     "name": "stdout",
     "output_type": "stream",
     "text": [
      "ЦСКА win\n"
     ]
    }
   ],
   "source": [
    "print(w)"
   ]
  },
  {
   "cell_type": "code",
   "execution_count": null,
   "metadata": {},
   "outputs": [],
   "source": [
    "# два словаря (один промежуточный вместо фала   туда пишем Команда - draw   Команда  - win)"
   ]
  },
  {
   "cell_type": "code",
   "execution_count": null,
   "metadata": {},
   "outputs": [],
   "source": [
    "for team in matchdic.keys()"
   ]
  },
  {
   "cell_type": "code",
   "execution_count": null,
   "metadata": {},
   "outputs": [],
   "source": [
    "dic={}\n",
    "key1 = 'd'\n",
    "key2 = 's'\n",
    "dic[key1] = [0, 0, 0, 0, 0]\n",
    "dic[key2] = [0, 0, 0, 0, 0]"
   ]
  },
  {
   "cell_type": "code",
   "execution_count": null,
   "metadata": {},
   "outputs": [],
   "source": [
    "print(dic)"
   ]
  },
  {
   "cell_type": "code",
   "execution_count": null,
   "metadata": {},
   "outputs": [],
   "source": [
    "teama= 0\n",
    "teamb = 0\n",
    "scorea =0\n",
    "scoreb = 0\n",
    "\n",
    "\n",
    "for  i in match: \n",
    "    if i.isalpha():\n",
    "        teama = i\n",
    "        if teamb= 0:\n",
    "            teamb=teama\n",
    "    else:   \n",
    "        scorea= i\n",
    "        if scoreb= 0:\n",
    "            scoreb=scorea\n",
    "            \n",
    "# по идее, теперь у нас есть команды a  и b и  счёт  a и b\n",
    "    # тут назнач аем вторую команду - \n",
    "    teama\n",
    "    scorea\n",
    "    teama = teamb\n",
    "    scorea = scoreb"
   ]
  },
  {
   "cell_type": "code",
   "execution_count": null,
   "metadata": {},
   "outputs": [],
   "source": [
    "   # убрала кусок из создания словаря\n",
    "    \n",
    "    else:\n",
    "            score = int(i)\n",
    "            matchdic[team] = score # создали текущий локальный словарь"
   ]
  },
  {
   "cell_type": "code",
   "execution_count": null,
   "metadata": {},
   "outputs": [],
   "source": [
    "print(matchdic) # проверка. УБРАТЬ\n",
    "\n",
    "print(teams) #проверка. УБРАТЬ\n",
    "\n",
    "print(teama, teamb, scorea, scoreb) "
   ]
  },
  {
   "cell_type": "code",
   "execution_count": null,
   "metadata": {},
   "outputs": [],
   "source": [
    "a = \"some str\"\n",
    "b = 9\n",
    "\n",
    "c  = 'some str' + str(b)\n",
    "\n",
    "with open('matches.txt', 'w') as ouf:\n",
    "        ouf.write(c)\n",
    "        \n",
    "        "
   ]
  },
  {
   "cell_type": "code",
   "execution_count": null,
   "metadata": {},
   "outputs": [],
   "source": [
    "print(c)"
   ]
  },
  {
   "cell_type": "code",
   "execution_count": null,
   "metadata": {},
   "outputs": [],
   "source": [
    "print(games)\n"
   ]
  },
  {
   "cell_type": "code",
   "execution_count": null,
   "metadata": {},
   "outputs": [],
   "source": [
    "Команда:Всего_игр Побед Ничьих Поражений Всего_очков"
   ]
  }
 ],
 "metadata": {
  "kernelspec": {
   "display_name": "Python 3",
   "language": "python",
   "name": "python3"
  },
  "language_info": {
   "codemirror_mode": {
    "name": "ipython",
    "version": 3
   },
   "file_extension": ".py",
   "mimetype": "text/x-python",
   "name": "python",
   "nbconvert_exporter": "python",
   "pygments_lexer": "ipython3",
   "version": "3.6.5"
  }
 },
 "nbformat": 4,
 "nbformat_minor": 2
}
