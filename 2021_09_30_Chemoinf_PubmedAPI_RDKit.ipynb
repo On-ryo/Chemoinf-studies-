{
 "cells": [
  {
   "cell_type": "code",
   "execution_count": null,
   "id": "4d448366",
   "metadata": {
    "tags": []
   },
   "outputs": [],
   "source": [
    "## requires installed and activated rdkit environment in conda\n",
    "\n",
    "import pandas as pd\n",
    "import numpy as np\n",
    "import requests\n",
    "import os\n",
    "\n",
    "import rdkit\n",
    "from rdkit import rdBase\n",
    "from rdkit import Chem\n",
    "from rdkit.Chem import PandasTools\n",
    "\n",
    "from rdkit import RDConfig\n",
    "from rdkit.Chem import rdRGroupDecomposition\n",
    "\n",
    "from rdkit.Chem import AllChe\n",
    "from rdkit.Chem import Draw"
   ]
  },
  {
   "cell_type": "code",
   "execution_count": null,
   "id": "1785e7b2-636f-4588-b288-85d7b2f30bd3",
   "metadata": {},
   "outputs": [],
   "source": [
    "CIDS = pd.read_csv('chem_id_pubmed.txt', \n",
    "                   names = ['CID'])"
   ]
  },
  {
   "cell_type": "code",
   "execution_count": null,
   "id": "78695a42-24ff-4514-9d45-2bfc991afc95",
   "metadata": {},
   "outputs": [],
   "source": [
    "CIDS = CIDS['CID'].apply(lambda x: int(x))"
   ]
  },
  {
   "cell_type": "markdown",
   "id": "76ca7fbd-20ce-4d4a-a561-a781333eb46b",
   "metadata": {
    "tags": []
   },
   "source": [
    "### Get data from Pubchem"
   ]
  },
  {
   "cell_type": "code",
   "execution_count": null,
   "id": "1c97a3d9",
   "metadata": {},
   "outputs": [],
   "source": [
    "pip install pubchempy"
   ]
  },
  {
   "cell_type": "code",
   "execution_count": null,
   "id": "a685d9f7",
   "metadata": {},
   "outputs": [],
   "source": [
    "import pubchempy as pcp"
   ]
  },
  {
   "cell_type": "code",
   "execution_count": null,
   "id": "ea5e7479-25c0-4308-be26-97bfaaa90c1e",
   "metadata": {},
   "outputs": [],
   "source": [
    "# dataframe for compounds' features\n",
    "\n",
    "chem_data = pd.DataFrame(columns = ['CID', 'CanonicalSMILES', 'Fingerprint2D', 'MolecularFormula'])"
   ]
  },
  {
   "cell_type": "code",
   "execution_count": null,
   "id": "fb349225",
   "metadata": {},
   "outputs": [],
   "source": [
    "# use pubchempy API to get CIDs from the pubchem\n",
    "\n",
    "for CID in CIDS:\n",
    "    comp = pcp.Compound.from_cid(CID)\n",
    "    new_row = {'CID': comp.cid, 'CanonicalSMILES':comp.canonical_smiles, 'Fingerprint2D':comp.fingerprint, 'MolecularFormula':comp.molecular_formula}\n",
    "    chem_data = chem_data.append(new_row, ignore_index=True)\n"
   ]
  },
  {
   "cell_type": "code",
   "execution_count": null,
   "id": "46e43328-ef49-4bc7-937d-73ce6baa22b9",
   "metadata": {},
   "outputs": [],
   "source": [
    "chem_data.to_csv('chem_data.csv') "
   ]
  },
  {
   "cell_type": "markdown",
   "id": "085c1bc1-816f-45e3-baa5-5ac50759f2ca",
   "metadata": {
    "tags": []
   },
   "source": [
    "### SMILES to RDKit Molecules, to SDF"
   ]
  },
  {
   "cell_type": "code",
   "execution_count": null,
   "id": "db66d25d-ecc7-41a2-8173-31f85e6735ab",
   "metadata": {},
   "outputs": [],
   "source": [
    "# load csv file with smiles and fingerprints\n",
    "chem_data = pd.read_csv('chem_data.csv')"
   ]
  },
  {
   "cell_type": "code",
   "execution_count": null,
   "id": "268bfbc1-2a92-4649-abaf-363de91ba4ca",
   "metadata": {},
   "outputs": [],
   "source": [
    "# add column with rdkit molecule objects with pandas API\n",
    "PandasTools.AddMoleculeColumnToFrame(chem_data, 'CanonicalSMILES','Molecule')"
   ]
  },
  {
   "cell_type": "code",
   "execution_count": null,
   "id": "3526c8e9-5e01-4c6d-bd9a-1ef64938d8fc",
   "metadata": {},
   "outputs": [],
   "source": [
    "chem_data['Molecule']"
   ]
  },
  {
   "cell_type": "code",
   "execution_count": null,
   "id": "64799f4c-4c77-44e1-af5f-5bfba2b86707",
   "metadata": {},
   "outputs": [],
   "source": [
    "# save to sdf\n",
    "PandasTools.WriteSDF(chem_data, 'chem_data.sdf', molColName='Molecule', properties=list(chem_data.columns))"
   ]
  },
  {
   "cell_type": "markdown",
   "id": "52b75e00-9a22-481b-85ca-e06cbd940ab8",
   "metadata": {
    "tags": []
   },
   "source": [
    "### Molecule Visualisation"
   ]
  },
  {
   "cell_type": "code",
   "execution_count": null,
   "id": "142061db-513f-4e6e-b6b6-9c96fdcebc8c",
   "metadata": {},
   "outputs": [],
   "source": [
    "ms = [] # future list of molecules\n",
    "\n",
    "for mol in chem_data['Molecule']:\n",
    "    ms.append(mol)  \n"
   ]
  },
  {
   "cell_type": "code",
   "execution_count": null,
   "id": "c14a4875-37bc-465d-9f6f-295a5cd103d4",
   "metadata": {},
   "outputs": [],
   "source": [
    "# use Rdkit pandas API to generate images of compounds\n",
    "\n",
    "rdkit.Chem.PandasTools.FrameToGridImage(chem_data,\n",
    "                                        column='Molecule', \n",
    "                                        legendsCol='CID',\n",
    "                                        molsPerRow=4,subImgSize=(300,300))"
   ]
  },
  {
   "cell_type": "markdown",
   "id": "11a77f6b-af77-4ee6-98d6-6b4b99830920",
   "metadata": {
    "tags": []
   },
   "source": [
    "### Get compounds' fingerprints"
   ]
  },
  {
   "cell_type": "markdown",
   "id": "38c7f16b-ae67-416f-ba72-01d47feb5cfd",
   "metadata": {
    "tags": []
   },
   "source": [
    "#### Morgan fingerprints"
   ]
  },
  {
   "cell_type": "code",
   "execution_count": null,
   "id": "d20b622b-4538-48cb-b2d3-fe812a8bc765",
   "metadata": {},
   "outputs": [],
   "source": [
    "from rdkit import DataStructs"
   ]
  },
  {
   "cell_type": "code",
   "execution_count": null,
   "id": "e4362f0f-c8ad-4c7e-9157-7c7233b7acb1",
   "metadata": {},
   "outputs": [],
   "source": [
    "chem_data['Morgan'] = chem_data['Molecule'].apply(lambda x:\n",
    "                                                  AllChem.GetMorganFingerprint(x,2))"
   ]
  },
  {
   "cell_type": "code",
   "execution_count": null,
   "id": "5f9b90f8-26af-4bcd-8807-95c1c42d98d4",
   "metadata": {},
   "outputs": [],
   "source": [
    "morgan_Similarity = []\n",
    "\n",
    "for fp1 in chem_data['Morgan']:\n",
    "    for fp2 in chem_data['Morgan']:\n",
    "        morgan_Similarity.append(DataStructs.DiceSimilarity(fp1,fp2))                     \n"
   ]
  },
  {
   "cell_type": "markdown",
   "id": "e39cb01b-2b48-4388-a949-0ff4a8c03194",
   "metadata": {},
   "source": [
    " #### MACCS keys"
   ]
  },
  {
   "cell_type": "code",
   "execution_count": null,
   "id": "2330aa88-193c-4d58-895e-4539ddcadee5",
   "metadata": {},
   "outputs": [],
   "source": [
    "from rdkit.Chem import MACCSkeys"
   ]
  },
  {
   "cell_type": "code",
   "execution_count": null,
   "id": "b5949968-943a-4e06-99cb-87c6b8dd8615",
   "metadata": {},
   "outputs": [],
   "source": [
    "chem_data['MACCS keys'] = chem_data['Molecule'].apply(lambda x:\n",
    "                                                  MACCSkeys.GenMACCSKeys(x))"
   ]
  },
  {
   "cell_type": "code",
   "execution_count": null,
   "id": "d03d3e49-e3b2-45aa-9eb8-f534bb0ce732",
   "metadata": {},
   "outputs": [],
   "source": [
    "MACCS_Similarity = []\n",
    "\n",
    "for fp1 in chem_data['MACCS keys']:\n",
    "    for fp2 in chem_data['MACCS keys']:\n",
    "        MACCS_Similarity.append(DataStructs.FingerprintSimilarity(fp1,fp2))                     \n",
    "        \n"
   ]
  },
  {
   "cell_type": "markdown",
   "id": "cb1e9428-4312-48ea-aff2-66dcd7a2c56b",
   "metadata": {},
   "source": [
    "#### RDKit fingerprints"
   ]
  },
  {
   "cell_type": "code",
   "execution_count": null,
   "id": "58703805-485d-4983-844f-9fb07872fdd9",
   "metadata": {},
   "outputs": [],
   "source": [
    "from rdkit.Chem.Fingerprints import FingerprintMols"
   ]
  },
  {
   "cell_type": "code",
   "execution_count": null,
   "id": "5e0a9d84-35c4-42e4-8e7b-da95c59dd9e0",
   "metadata": {},
   "outputs": [],
   "source": [
    "chem_data['RDKit fingerprints'] = chem_data['Molecule'].apply(lambda x:\n",
    "                                                  FingerprintMols.FingerprintMol(x))"
   ]
  },
  {
   "cell_type": "code",
   "execution_count": null,
   "id": "38183191-490e-4afa-a905-2d8bd1db0851",
   "metadata": {},
   "outputs": [],
   "source": [
    "RDKit_Similarity = []\n",
    "\n",
    "for fp1 in chem_data['RDKit fingerprints']:\n",
    "    \n",
    "    for fp2 in chem_data['RDKit fingerprints']:\n",
    "        RDKit_Similarity.append(DataStructs.FingerprintSimilarity(fp1,fp2))                     "
   ]
  },
  {
   "cell_type": "code",
   "execution_count": null,
   "id": "6d7cba97-a8b4-47c8-921c-cb73c1859599",
   "metadata": {},
   "outputs": [],
   "source": [
    "# list of fingerprints\n",
    "fps = [FingerprintMols.FingerprintMol(x, minPath=1, maxPath=7, fpSize=2048,\n",
    "                               bitsPerHash=2, useHs=True, tgtDensity=0.0,\n",
    "                               minSize=128) for x in mols ]\n",
    "\n",
    "# lists for the variables\n",
    "qu, ta, sim = [], [], []\n",
    "\n",
    "# compare all fp pairwise without duplicates\n",
    "for n in range(len(fps)-1): # -1 so the last fp will not be used\n",
    "    s = DataStructs.BulkTanimotoSimilarity(fps[n], fps[n+1:]) # +1 compare with the next to the last fp\n",
    "    print(smiles[n], smiles[n+1:]) # witch mol is compared with what group\n",
    "    # collect the SMILES and values\n",
    "    for m in range(len(s)):\n",
    "        qu.append(smiles[n])\n",
    "        ta.append(smiles[n+1:][m])\n",
    "        sim.append(s[m])\n",
    "\n",
    "\n",
    "# build the dataframe and sort it\n",
    "d = {'query':qu, 'target':ta, 'Similarity':sim}\n",
    "df_final = pd.DataFrame(data=d)\n",
    "df_final = df_final.sort_values('Similarity', ascending=False)\n",
    "\n",
    "\n",
    "# save as csv\n",
    "df_final.to_csv('RDKit_fps.csv', index=False, sep=',')\n",
    "\n",
    "\n"
   ]
  },
  {
   "cell_type": "markdown",
   "id": "33085937-5c02-4a0e-95b4-63cc44e2a2d2",
   "metadata": {},
   "source": [
    "### Plot distribution of similarity"
   ]
  },
  {
   "cell_type": "code",
   "execution_count": null,
   "id": "c96364d3-d284-4c18-b42a-b2acec9c2fab",
   "metadata": {},
   "outputs": [],
   "source": [
    "import seaborn as sns\n",
    "\n",
    "# male similarity distribution histograms\n",
    " \n",
    "sns.displot(RDKit_Similarity).set_title('RDKit_Similarity')\n",
    "sns.displot(morgan_Similarity).set_title('morgan_Similarity')\n",
    "sns.displot(MACCS_Similarity).set_title('MACCS_Similarity')\n"
   ]
  }
 ],
 "metadata": {
  "kernelspec": {
   "display_name": "Python 3 (ipykernel)",
   "language": "python",
   "name": "python3"
  },
  "language_info": {
   "codemirror_mode": {
    "name": "ipython",
    "version": 3
   },
   "file_extension": ".py",
   "mimetype": "text/x-python",
   "name": "python",
   "nbconvert_exporter": "python",
   "pygments_lexer": "ipython3",
   "version": "3.9.7"
  }
 },
 "nbformat": 4,
 "nbformat_minor": 5
}
